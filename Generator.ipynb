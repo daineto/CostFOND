{
 "cells": [
  {
   "cell_type": "code",
   "execution_count": 18,
   "metadata": {},
   "outputs": [],
   "source": [
    "from itertools import product\n",
    "from random import shuffle, randint"
   ]
  },
  {
   "cell_type": "code",
   "execution_count": null,
   "metadata": {},
   "outputs": [],
   "source": [
    "def generate_grid_smart(rows, columns, npits, nwalls):\n",
    "    tiles = list(product(range(rows), (range(columns))))\n",
    "    tile_type = {tile:\"ice\" for tile in tiles}\n",
    "    shuffle(tiles)\n",
    "\n",
    "    init = tiles.pop()\n",
    "    goal = tiles.pop()\n",
    "\n",
    "    nwaypoints = randint(2,3)\n",
    "    waypoints = [tiles.pop() for i in range(nwaypoints)]\n",
    "    current = init\n",
    "    for wp in waypoints:\n",
    "        xdist = wp[0] - current[0]\n",
    "        ydist = wp[1] - current[1]\n",
    "\n",
    "\n",
    "    pits = [tiles.pop() for i in range(npits)]\n",
    "    for pit in pits:\n",
    "        tile_type[pit] = \"pit\"\n",
    "    walls = [tiles.pop() for i in range(nwalls)]\n",
    "    for wall in walls:\n",
    "        tile_type[wall] = \"wall\"\n",
    "\n",
    "    return init, goal, tile_type"
   ]
  },
  {
   "cell_type": "code",
   "execution_count": 2,
   "metadata": {},
   "outputs": [],
   "source": [
    "def generate_grid(rows, columns, npits, nwalls):\n",
    "    tiles = list(product(range(rows), (range(columns))))\n",
    "    tile_type = {tile:\"ice\" for tile in tiles}\n",
    "    shuffle(tiles)\n",
    "\n",
    "    init = tiles.pop()\n",
    "    goal = tiles.pop()\n",
    "    pits = [tiles.pop() for i in range(npits)]\n",
    "    for pit in pits:\n",
    "        tile_type[pit] = \"pit\"\n",
    "    walls = [tiles.pop() for i in range(nwalls)]\n",
    "    for wall in walls:\n",
    "        tile_type[wall] = \"wall\"\n",
    "\n",
    "    return init, goal, tile_type"
   ]
  },
  {
   "cell_type": "code",
   "execution_count": 10,
   "metadata": {},
   "outputs": [],
   "source": [
    "def generate_objects_string(rows, columns, tile_type):\n",
    "    obj_str = \"(:objects \\n\"\n",
    "    tile_list = [\"upperwall-{} - wall\".format(x) for x in range(columns)]\n",
    "    obj_str += \" \".join(tile_list) + \"\\n\"\n",
    "    for y in range(rows):\n",
    "        tile_list = []\n",
    "        tile_list += [\"leftwall-{} - wall\".format(rows-y-1)]\n",
    "        for x in range(columns):\n",
    "            coord = (x, rows-y-1)\n",
    "            tile_list += [\"tile_{}_{} - {}\".format(coord[0],coord[1], tile_type[coord])]\n",
    "        tile_list += [\"rightwall-{} - wall\".format(rows-y-1)]\n",
    "        obj_str += \" \".join(tile_list) + \"\\n\"\n",
    "    tile_list = [\"bottomwall-{} - wall\".format(x) for x in range(columns)]\n",
    "    obj_str += \" \".join(tile_list) + \"\\n\"\n",
    "    obj_str += \")\\n\"\n",
    "\n",
    "    return obj_str\n"
   ]
  },
  {
   "cell_type": "code",
   "execution_count": 11,
   "metadata": {},
   "outputs": [],
   "source": [
    "def generate_init_string(rows, columns, init):\n",
    "    init_str = \"(:init\\n\"\n",
    "    init_str += \"(at tile_{}_{})\\n\".format(init[0], init[1])\n",
    "    init_str += \"\\n\"\n",
    "    \n",
    "    for y in range(rows):\n",
    "        tile_list = []\n",
    "        tile_list += [\"(left-of leftwall-{} tile_{}_{})\".format(rows-y-1,0,rows-y-1)]\n",
    "        for x in range(columns-1):\n",
    "            tile_list += [\"(left-of tile_{}_{} tile_{}_{})\".format(x,rows-y-1, x+1,rows-y-1)]\n",
    "        tile_list += [\"(left-of tile_{}_{} rightwall-{})\".format(columns-1,rows-y-1,rows-y-1)]\n",
    "        init_str += \" \".join(tile_list) + \"\\n\"\n",
    "    init_str += \"\\n\"\n",
    "\n",
    "    init_str += \" \".join([\"(down-of tile_{}_{} upperwall-{})\".format(i,rows-1, i) for i in range(columns)] + [\"\\n\"])\n",
    "    for y in range(rows-1):\n",
    "        tile_list = []\n",
    "        for x in range(columns):\n",
    "            tile_list += [\"(down-of tile_{}_{} tile_{}_{})\".format(x,rows-y-2, x,rows-y-1)]\n",
    "        init_str += \" \".join(tile_list) + \"\\n\"\n",
    "    init_str += \" \".join([\"(down-of bottomwall-{} tile_{}_{})\".format(i, i,0) for i in range(columns)])\n",
    "    init_str += \")\\n\"\n",
    "\n",
    "    return init_str"
   ]
  },
  {
   "cell_type": "code",
   "execution_count": 12,
   "metadata": {},
   "outputs": [],
   "source": [
    "def generate_goal_string(goal):\n",
    "    goal_str = \"(:goal\\n\"\n",
    "    goal_str += \"(and (at tile_{}_{}))\\n\".format(goal[0], goal[1])\n",
    "    goal_str += \")\\n\"\n",
    "\n",
    "    return goal_str"
   ]
  },
  {
   "cell_type": "code",
   "execution_count": 15,
   "metadata": {},
   "outputs": [],
   "source": [
    "def generate_problem_string(pnum, rows, columns, init, goal, tile_type):\n",
    "    p_str = \"\"\n",
    "    p_str += \"(define (problem p{}) (:domain icylake)\\n\".format(str(pnum).zfill(2))\n",
    "    p_str += \"\\n\"\n",
    "\n",
    "    p_str += generate_objects_string(rows,columns,tile_type)\n",
    "    p_str += \"\\n\"\n",
    "\n",
    "    p_str += generate_init_string(rows,columns,init)\n",
    "    p_str += \"\\n\"\n",
    "\n",
    "    p_str += generate_goal_string(goal)\n",
    "    p_str += \")\"\n",
    "\n",
    "    return p_str\n"
   ]
  },
  {
   "cell_type": "code",
   "execution_count": 17,
   "metadata": {},
   "outputs": [],
   "source": [
    "rows = 6\n",
    "columns = 6\n",
    "\n",
    "pnum = 0\n",
    "npits = columns - 2\n",
    "nwalls = columns - 4\n",
    "\n",
    "init, goal, tile_type = generate_grid(rows, columns, npits, nwalls)\n",
    "problem = generate_problem_string(pnum, rows, columns, init, goal, tile_type)\n",
    "\n",
    "# print(problem)\n",
    "\n",
    "with open(\"benchmarks/frozenlake/p{}.pddl\".format(str(pnum).zfill(2)), \"w\") as f:\n",
    "    f.write(problem)\n"
   ]
  },
  {
   "cell_type": "code",
   "execution_count": 20,
   "metadata": {},
   "outputs": [],
   "source": [
    "sizes = [6]\n",
    "NINSTANCES = 99\n",
    "\n",
    "pnum = 0\n",
    "for size in sizes:\n",
    "    rows = columns = size\n",
    "    for i in range(NINSTANCES):\n",
    "        pnum += 1\n",
    "        npits = randint(1, size-1)\n",
    "        nwalls = randint(1, size-1)\n",
    "\n",
    "        init, goal, tile_type = generate_grid(rows, columns, npits, nwalls)\n",
    "        problem = generate_problem_string(pnum, rows, columns, init, goal, tile_type)\n",
    "\n",
    "        # print(problem)\n",
    "\n",
    "        with open(\"benchmarks/frozenlake/p{}.pddl\".format(str(pnum).zfill(2)), \"w\") as f:\n",
    "            f.write(problem)"
   ]
  },
  {
   "cell_type": "code",
   "execution_count": null,
   "metadata": {},
   "outputs": [],
   "source": [
    "\n",
    "\n",
    "tile_str = \"\"\n",
    "tile_list = [\"upperwall-{} - wall\".format(x) for x in range(columns)]\n",
    "tile_str += \" \".join(tile_list) + \"\\n\"\n",
    "for y in range(rows):\n",
    "    tile_list = []\n",
    "    tile_list += [\"leftwall-{} - wall\".format(rows-y-1)]\n",
    "    for x in range(columns):\n",
    "        coord = (x, rows-y-1)\n",
    "        tile_list += [\"tile_{}_{} - {}\".format(coord[0],coord[1], tile_type[coord])]\n",
    "    tile_list += [\"rightwall-{} - wall\".format(rows-y-1)]\n",
    "    tile_str += \" \".join(tile_list) + \"\\n\"\n",
    "tile_list = [\"bottomwall-{} - wall\".format(x) for x in range(columns)]\n",
    "tile_str += \" \".join(tile_list) + \"\\n\"\n",
    "print(tile_str)"
   ]
  },
  {
   "cell_type": "code",
   "execution_count": null,
   "metadata": {},
   "outputs": [],
   "source": [
    "rows = 6\n",
    "columns = 6\n",
    "tile_str = \"\"\n",
    "for y in range(rows):\n",
    "    tile_list = []\n",
    "    tile_list += [\"(left-of leftwall-{} tile_{}_{})\".format(rows-y-1,0,rows-y-1)]\n",
    "    for x in range(columns-1):\n",
    "        tile_list += [\"(left-of tile_{}_{} tile_{}_{})\".format(x,rows-y-1, x+1,rows-y-1)]\n",
    "    tile_list += [\"(left-of tile_{}_{} rightwall-{})\".format(columns-1,rows-y-1,rows-y-1)]\n",
    "    tile_str += \" \".join(tile_list) + \"\\n\"\n",
    "print(tile_str)"
   ]
  },
  {
   "cell_type": "code",
   "execution_count": null,
   "metadata": {},
   "outputs": [],
   "source": [
    "rows = 6\n",
    "columns = 6\n",
    "\n",
    "tile_str = \"\"\n",
    "tile_str += \" \".join([\"(down-of tile_{}_{} upperwall-{})\".format(i,rows-1, i) for i in range(columns)] + [\"\\n\"])\n",
    "for y in range(rows-1):\n",
    "    tile_list = []\n",
    "    for x in range(columns):\n",
    "        tile_list += [\"(down-of tile_{}_{} tile_{}_{})\".format(x,rows-y-2, x,rows-y-1)]\n",
    "    tile_str += \" \".join(tile_list) + \"\\n\"\n",
    "tile_str += \" \".join([\"(down-of bottomwall-{} tile_{}_{})\".format(i, i,0) for i in range(columns)])\n",
    "print(tile_str)"
   ]
  }
 ],
 "metadata": {
  "kernelspec": {
   "display_name": "fond",
   "language": "python",
   "name": "python3"
  },
  "language_info": {
   "codemirror_mode": {
    "name": "ipython",
    "version": 3
   },
   "file_extension": ".py",
   "mimetype": "text/x-python",
   "name": "python",
   "nbconvert_exporter": "python",
   "pygments_lexer": "ipython3",
   "version": "3.10.6"
  }
 },
 "nbformat": 4,
 "nbformat_minor": 2
}
